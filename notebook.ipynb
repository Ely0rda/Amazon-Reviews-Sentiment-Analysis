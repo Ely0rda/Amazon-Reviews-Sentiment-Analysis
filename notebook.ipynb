{
 "cells": [
  {
   "cell_type": "code",
   "execution_count": 1,
   "id": "0eff6136",
   "metadata": {
    "_cell_guid": "b1076dfc-b9ad-4769-8c92-a6c4dae69d19",
    "_uuid": "8f2839f25d086af736a60e9eeb907d3b93b6e0e5",
    "execution": {
     "iopub.execute_input": "2023-12-16T09:10:10.575951Z",
     "iopub.status.busy": "2023-12-16T09:10:10.575459Z",
     "iopub.status.idle": "2023-12-16T09:10:13.835117Z",
     "shell.execute_reply": "2023-12-16T09:10:13.834022Z"
    },
    "papermill": {
     "duration": 3.271948,
     "end_time": "2023-12-16T09:10:13.837519",
     "exception": false,
     "start_time": "2023-12-16T09:10:10.565571",
     "status": "completed"
    },
    "tags": []
   },
   "outputs": [],
   "source": [
    "import pandas as pd\n",
    "import numpy as np\n",
    "import matplotlib.pyplot as plt\n",
    "import seaborn as sns\n",
    "\n",
    "plt.style.use('ggplot')\n",
    "\n",
    "import nltk"
   ]
  },
  {
   "cell_type": "markdown",
   "id": "67cb327e",
   "metadata": {
    "papermill": {
     "duration": 0.007368,
     "end_time": "2023-12-16T09:10:13.852860",
     "exception": false,
     "start_time": "2023-12-16T09:10:13.845492",
     "status": "completed"
    },
    "tags": []
   },
   "source": [
    "# Importing Data"
   ]
  },
  {
   "cell_type": "markdown",
   "id": "afa71e86",
   "metadata": {
    "papermill": {
     "duration": 0.008127,
     "end_time": "2023-12-16T09:10:13.868999",
     "exception": false,
     "start_time": "2023-12-16T09:10:13.860872",
     "status": "completed"
    },
    "tags": []
   },
   "source": [
    "## Reading data from a CSV file"
   ]
  },
  {
   "cell_type": "code",
   "execution_count": 2,
   "id": "411fc5cb",
   "metadata": {
    "execution": {
     "iopub.execute_input": "2023-12-16T09:10:13.886153Z",
     "iopub.status.busy": "2023-12-16T09:10:13.885636Z",
     "iopub.status.idle": "2023-12-16T09:10:21.206718Z",
     "shell.execute_reply": "2023-12-16T09:10:21.205320Z"
    },
    "papermill": {
     "duration": 7.332105,
     "end_time": "2023-12-16T09:10:21.208852",
     "exception": false,
     "start_time": "2023-12-16T09:10:13.876747",
     "status": "completed"
    },
    "tags": []
   },
   "outputs": [
    {
     "name": "stdout",
     "output_type": "stream",
     "text": [
      "(568454, 10)\n"
     ]
    }
   ],
   "source": [
    "df = pd.read_csv('../input/amazon-fine-food-reviews/Reviews.csv')\n",
    "#the shape of our data\n",
    "print(df.shape)"
   ]
  },
  {
   "cell_type": "markdown",
   "id": "6aac28a0",
   "metadata": {
    "papermill": {
     "duration": 0.008301,
     "end_time": "2023-12-16T09:10:21.225320",
     "exception": false,
     "start_time": "2023-12-16T09:10:21.217019",
     "status": "completed"
    },
    "tags": []
   },
   "source": [
    "`pd.read_csv` Reads a comma-separated values (csv) file into DataFrame."
   ]
  },
  {
   "cell_type": "markdown",
   "id": "bd41b050",
   "metadata": {
    "papermill": {
     "duration": 0.008065,
     "end_time": "2023-12-16T09:10:21.241865",
     "exception": false,
     "start_time": "2023-12-16T09:10:21.233800",
     "status": "completed"
    },
    "tags": []
   },
   "source": [
    "## Taking a part from the data"
   ]
  },
  {
   "cell_type": "code",
   "execution_count": 3,
   "id": "8a56e1a3",
   "metadata": {
    "execution": {
     "iopub.execute_input": "2023-12-16T09:10:21.260295Z",
     "iopub.status.busy": "2023-12-16T09:10:21.259912Z",
     "iopub.status.idle": "2023-12-16T09:10:21.266892Z",
     "shell.execute_reply": "2023-12-16T09:10:21.264869Z"
    },
    "papermill": {
     "duration": 0.018972,
     "end_time": "2023-12-16T09:10:21.268954",
     "exception": false,
     "start_time": "2023-12-16T09:10:21.249982",
     "status": "completed"
    },
    "tags": []
   },
   "outputs": [
    {
     "name": "stdout",
     "output_type": "stream",
     "text": [
      "(500, 10)\n"
     ]
    }
   ],
   "source": [
    "df = df.head(500)\n",
    "print(df.shape)"
   ]
  },
  {
   "cell_type": "markdown",
   "id": "0655f141",
   "metadata": {
    "papermill": {
     "duration": 0.007444,
     "end_time": "2023-12-16T09:10:21.284277",
     "exception": false,
     "start_time": "2023-12-16T09:10:21.276833",
     "status": "completed"
    },
    "tags": []
   },
   "source": [
    "- `df = df.head(n)` This function returns the first n rows for the object based on position\n",
    "- Without a value of n it return the first 5 rows."
   ]
  },
  {
   "cell_type": "markdown",
   "id": "b6f11f2d",
   "metadata": {
    "papermill": {
     "duration": 0.007451,
     "end_time": "2023-12-16T09:10:21.299443",
     "exception": false,
     "start_time": "2023-12-16T09:10:21.291992",
     "status": "completed"
    },
    "tags": []
   },
   "source": [
    "# Taking a look at the data"
   ]
  },
  {
   "cell_type": "code",
   "execution_count": 4,
   "id": "8f0da94c",
   "metadata": {
    "execution": {
     "iopub.execute_input": "2023-12-16T09:10:21.317051Z",
     "iopub.status.busy": "2023-12-16T09:10:21.316659Z",
     "iopub.status.idle": "2023-12-16T09:10:21.348710Z",
     "shell.execute_reply": "2023-12-16T09:10:21.345883Z"
    },
    "papermill": {
     "duration": 0.044437,
     "end_time": "2023-12-16T09:10:21.351834",
     "exception": false,
     "start_time": "2023-12-16T09:10:21.307397",
     "status": "completed"
    },
    "tags": []
   },
   "outputs": [
    {
     "data": {
      "text/html": [
       "<div>\n",
       "<style scoped>\n",
       "    .dataframe tbody tr th:only-of-type {\n",
       "        vertical-align: middle;\n",
       "    }\n",
       "\n",
       "    .dataframe tbody tr th {\n",
       "        vertical-align: top;\n",
       "    }\n",
       "\n",
       "    .dataframe thead th {\n",
       "        text-align: right;\n",
       "    }\n",
       "</style>\n",
       "<table border=\"1\" class=\"dataframe\">\n",
       "  <thead>\n",
       "    <tr style=\"text-align: right;\">\n",
       "      <th></th>\n",
       "      <th>Id</th>\n",
       "      <th>ProductId</th>\n",
       "      <th>UserId</th>\n",
       "      <th>ProfileName</th>\n",
       "      <th>HelpfulnessNumerator</th>\n",
       "      <th>HelpfulnessDenominator</th>\n",
       "      <th>Score</th>\n",
       "      <th>Time</th>\n",
       "      <th>Summary</th>\n",
       "      <th>Text</th>\n",
       "    </tr>\n",
       "  </thead>\n",
       "  <tbody>\n",
       "    <tr>\n",
       "      <th>0</th>\n",
       "      <td>1</td>\n",
       "      <td>B001E4KFG0</td>\n",
       "      <td>A3SGXH7AUHU8GW</td>\n",
       "      <td>delmartian</td>\n",
       "      <td>1</td>\n",
       "      <td>1</td>\n",
       "      <td>5</td>\n",
       "      <td>1303862400</td>\n",
       "      <td>Good Quality Dog Food</td>\n",
       "      <td>I have bought several of the Vitality canned d...</td>\n",
       "    </tr>\n",
       "    <tr>\n",
       "      <th>1</th>\n",
       "      <td>2</td>\n",
       "      <td>B00813GRG4</td>\n",
       "      <td>A1D87F6ZCVE5NK</td>\n",
       "      <td>dll pa</td>\n",
       "      <td>0</td>\n",
       "      <td>0</td>\n",
       "      <td>1</td>\n",
       "      <td>1346976000</td>\n",
       "      <td>Not as Advertised</td>\n",
       "      <td>Product arrived labeled as Jumbo Salted Peanut...</td>\n",
       "    </tr>\n",
       "    <tr>\n",
       "      <th>2</th>\n",
       "      <td>3</td>\n",
       "      <td>B000LQOCH0</td>\n",
       "      <td>ABXLMWJIXXAIN</td>\n",
       "      <td>Natalia Corres \"Natalia Corres\"</td>\n",
       "      <td>1</td>\n",
       "      <td>1</td>\n",
       "      <td>4</td>\n",
       "      <td>1219017600</td>\n",
       "      <td>\"Delight\" says it all</td>\n",
       "      <td>This is a confection that has been around a fe...</td>\n",
       "    </tr>\n",
       "    <tr>\n",
       "      <th>3</th>\n",
       "      <td>4</td>\n",
       "      <td>B000UA0QIQ</td>\n",
       "      <td>A395BORC6FGVXV</td>\n",
       "      <td>Karl</td>\n",
       "      <td>3</td>\n",
       "      <td>3</td>\n",
       "      <td>2</td>\n",
       "      <td>1307923200</td>\n",
       "      <td>Cough Medicine</td>\n",
       "      <td>If you are looking for the secret ingredient i...</td>\n",
       "    </tr>\n",
       "    <tr>\n",
       "      <th>4</th>\n",
       "      <td>5</td>\n",
       "      <td>B006K2ZZ7K</td>\n",
       "      <td>A1UQRSCLF8GW1T</td>\n",
       "      <td>Michael D. Bigham \"M. Wassir\"</td>\n",
       "      <td>0</td>\n",
       "      <td>0</td>\n",
       "      <td>5</td>\n",
       "      <td>1350777600</td>\n",
       "      <td>Great taffy</td>\n",
       "      <td>Great taffy at a great price.  There was a wid...</td>\n",
       "    </tr>\n",
       "  </tbody>\n",
       "</table>\n",
       "</div>"
      ],
      "text/plain": [
       "   Id   ProductId          UserId                      ProfileName  \\\n",
       "0   1  B001E4KFG0  A3SGXH7AUHU8GW                       delmartian   \n",
       "1   2  B00813GRG4  A1D87F6ZCVE5NK                           dll pa   \n",
       "2   3  B000LQOCH0   ABXLMWJIXXAIN  Natalia Corres \"Natalia Corres\"   \n",
       "3   4  B000UA0QIQ  A395BORC6FGVXV                             Karl   \n",
       "4   5  B006K2ZZ7K  A1UQRSCLF8GW1T    Michael D. Bigham \"M. Wassir\"   \n",
       "\n",
       "   HelpfulnessNumerator  HelpfulnessDenominator  Score        Time  \\\n",
       "0                     1                       1      5  1303862400   \n",
       "1                     0                       0      1  1346976000   \n",
       "2                     1                       1      4  1219017600   \n",
       "3                     3                       3      2  1307923200   \n",
       "4                     0                       0      5  1350777600   \n",
       "\n",
       "                 Summary                                               Text  \n",
       "0  Good Quality Dog Food  I have bought several of the Vitality canned d...  \n",
       "1      Not as Advertised  Product arrived labeled as Jumbo Salted Peanut...  \n",
       "2  \"Delight\" says it all  This is a confection that has been around a fe...  \n",
       "3         Cough Medicine  If you are looking for the secret ingredient i...  \n",
       "4            Great taffy  Great taffy at a great price.  There was a wid...  "
      ]
     },
     "execution_count": 4,
     "metadata": {},
     "output_type": "execute_result"
    }
   ],
   "source": [
    "df.head()"
   ]
  },
  {
   "cell_type": "markdown",
   "id": "c26a9abe",
   "metadata": {
    "papermill": {
     "duration": 0.007854,
     "end_time": "2023-12-16T09:10:21.368065",
     "exception": false,
     "start_time": "2023-12-16T09:10:21.360211",
     "status": "completed"
    },
    "tags": []
   },
   "source": [
    "## Counting the scores"
   ]
  },
  {
   "cell_type": "code",
   "execution_count": 5,
   "id": "4f4be85f",
   "metadata": {
    "execution": {
     "iopub.execute_input": "2023-12-16T09:10:21.386049Z",
     "iopub.status.busy": "2023-12-16T09:10:21.385699Z",
     "iopub.status.idle": "2023-12-16T09:10:21.398036Z",
     "shell.execute_reply": "2023-12-16T09:10:21.396862Z"
    },
    "papermill": {
     "duration": 0.024265,
     "end_time": "2023-12-16T09:10:21.400499",
     "exception": false,
     "start_time": "2023-12-16T09:10:21.376234",
     "status": "completed"
    },
    "tags": []
   },
   "outputs": [
    {
     "name": "stdout",
     "output_type": "stream",
     "text": [
      "Score\n",
      "5    339\n",
      "4     70\n",
      "3     37\n",
      "1     36\n",
      "2     18\n",
      "Name: count, dtype: int64\n"
     ]
    }
   ],
   "source": [
    "ax = df['Score'].value_counts()\n",
    "print(ax)"
   ]
  },
  {
   "cell_type": "markdown",
   "id": "936d9169",
   "metadata": {
    "papermill": {
     "duration": 0.009127,
     "end_time": "2023-12-16T09:10:21.418106",
     "exception": false,
     "start_time": "2023-12-16T09:10:21.408979",
     "status": "completed"
    },
    "tags": []
   },
   "source": [
    "- `df['x'].values_counts()` return a **series** of counting values of x in descending order by default.\n",
    "- In the example above it returns the number of occurrences of values of **Score**.\n",
    "- A `panda.series` is a one dimensional ndarray"
   ]
  },
  {
   "cell_type": "markdown",
   "id": "6dfda312",
   "metadata": {
    "papermill": {
     "duration": 0.007427,
     "end_time": "2023-12-16T09:10:21.433797",
     "exception": false,
     "start_time": "2023-12-16T09:10:21.426370",
     "status": "completed"
    },
    "tags": []
   },
   "source": [
    "## Reordering the series"
   ]
  },
  {
   "cell_type": "code",
   "execution_count": 6,
   "id": "df2a3d0c",
   "metadata": {
    "execution": {
     "iopub.execute_input": "2023-12-16T09:10:21.452071Z",
     "iopub.status.busy": "2023-12-16T09:10:21.451709Z",
     "iopub.status.idle": "2023-12-16T09:10:21.463883Z",
     "shell.execute_reply": "2023-12-16T09:10:21.463156Z"
    },
    "papermill": {
     "duration": 0.025249,
     "end_time": "2023-12-16T09:10:21.466880",
     "exception": false,
     "start_time": "2023-12-16T09:10:21.441631",
     "status": "completed"
    },
    "tags": []
   },
   "outputs": [
    {
     "name": "stdout",
     "output_type": "stream",
     "text": [
      "Score\n",
      "1     36\n",
      "2     18\n",
      "3     37\n",
      "4     70\n",
      "5    339\n",
      "Name: count, dtype: int64\n"
     ]
    }
   ],
   "source": [
    "ax = df['Score'].value_counts().sort_index()\n",
    "print(ax)"
   ]
  },
  {
   "cell_type": "markdown",
   "id": "d2e10d50",
   "metadata": {
    "papermill": {
     "duration": 0.008113,
     "end_time": "2023-12-16T09:10:21.483766",
     "exception": false,
     "start_time": "2023-12-16T09:10:21.475653",
     "status": "completed"
    },
    "tags": []
   },
   "source": [
    "- `Series.sort_index( inplace = False)` Returns a new Series sorted by label if *inplace* argument is `False`, otherwise updates the original series and returns None."
   ]
  },
  {
   "cell_type": "markdown",
   "id": "29e23282",
   "metadata": {
    "papermill": {
     "duration": 0.008335,
     "end_time": "2023-12-16T09:10:21.500602",
     "exception": false,
     "start_time": "2023-12-16T09:10:21.492267",
     "status": "completed"
    },
    "tags": []
   },
   "source": [
    "## Visualizing the series"
   ]
  },
  {
   "cell_type": "code",
   "execution_count": 7,
   "id": "96289cf0",
   "metadata": {
    "execution": {
     "iopub.execute_input": "2023-12-16T09:10:21.519696Z",
     "iopub.status.busy": "2023-12-16T09:10:21.519320Z",
     "iopub.status.idle": "2023-12-16T09:10:21.796642Z",
     "shell.execute_reply": "2023-12-16T09:10:21.795735Z"
    },
    "papermill": {
     "duration": 0.289146,
     "end_time": "2023-12-16T09:10:21.798612",
     "exception": false,
     "start_time": "2023-12-16T09:10:21.509466",
     "status": "completed"
    },
    "tags": []
   },
   "outputs": [
    {
     "data": {
      "image/png": "[encoded data removed]",
      "text/plain": [
       "<Figure size 1000x500 with 1 Axes>"
      ]
     },
     "metadata": {},
     "output_type": "display_data"
    }
   ],
   "source": [
    "# visualizing the series using a bar diagram\n",
    "ax = df['Score'].value_counts().sort_index().plot(kind='bar', title='Count of Reviews by stars', figsize=(10, 5))\n",
    "# setting a title for x axis\n",
    "ax.set_xlabel('Review Stars')\n",
    "plt.show()"
   ]
  },
  {
   "cell_type": "markdown",
   "id": "c1245bb6",
   "metadata": {
    "papermill": {
     "duration": 0.007947,
     "end_time": "2023-12-16T09:10:21.814950",
     "exception": false,
     "start_time": "2023-12-16T09:10:21.807003",
     "status": "completed"
    },
    "tags": []
   },
   "source": [
    "# Basic NLTK"
   ]
  },
  {
   "cell_type": "markdown",
   "id": "cf473dc3",
   "metadata": {
    "papermill": {
     "duration": 0.009204,
     "end_time": "2023-12-16T09:10:21.890514",
     "exception": false,
     "start_time": "2023-12-16T09:10:21.881310",
     "status": "completed"
    },
    "tags": []
   },
   "source": [
    "## Selecting data from the DataFrame"
   ]
  },
  {
   "cell_type": "code",
   "execution_count": 8,
   "id": "6ba767b1",
   "metadata": {
    "execution": {
     "iopub.execute_input": "2023-12-16T09:10:21.909306Z",
     "iopub.status.busy": "2023-12-16T09:10:21.908937Z",
     "iopub.status.idle": "2023-12-16T09:10:21.915008Z",
     "shell.execute_reply": "2023-12-16T09:10:21.914093Z"
    },
    "papermill": {
     "duration": 0.018326,
     "end_time": "2023-12-16T09:10:21.917366",
     "exception": false,
     "start_time": "2023-12-16T09:10:21.899040",
     "status": "completed"
    },
    "tags": []
   },
   "outputs": [
    {
     "name": "stdout",
     "output_type": "stream",
     "text": [
      "0      I have bought several of the Vitality canned d...\n",
      "1      Product arrived labeled as Jumbo Salted Peanut...\n",
      "2      This is a confection that has been around a fe...\n",
      "3      If you are looking for the secret ingredient i...\n",
      "4      Great taffy at a great price.  There was a wid...\n",
      "                             ...                        \n",
      "495    i rarely eat chips but i saw these and tried t...\n",
      "496    This is easily the best potato chip that I hav...\n",
      "497    Kettle Chips Spicy Thai potato chips have the ...\n",
      "498    Okay, I should not eat potato chips, nor shoul...\n",
      "499    I don't write very many reviews but I have to ...\n",
      "Name: Text, Length: 500, dtype: object\n"
     ]
    }
   ],
   "source": [
    "example = df['Text']\n",
    "print(example)"
   ]
  },
  {
   "cell_type": "code",
   "execution_count": 9,
   "id": "bf3390b9",
   "metadata": {
    "execution": {
     "iopub.execute_input": "2023-12-16T09:10:21.937743Z",
     "iopub.status.busy": "2023-12-16T09:10:21.936964Z",
     "iopub.status.idle": "2023-12-16T09:10:21.943908Z",
     "shell.execute_reply": "2023-12-16T09:10:21.942569Z"
    },
    "papermill": {
     "duration": 0.019747,
     "end_time": "2023-12-16T09:10:21.946302",
     "exception": false,
     "start_time": "2023-12-16T09:10:21.926555",
     "status": "completed"
    },
    "tags": []
   },
   "outputs": [
    {
     "name": "stdout",
     "output_type": "stream",
     "text": [
      "I have bought several of the Vitality canned dog food products and have found them all to be of good quality. The product looks more like a stew than a processed meat and it smells better. My Labrador is finicky and she appreciates this product better than  most.\n"
     ]
    }
   ],
   "source": [
    "example = df['Text'][0]\n",
    "print(example)\n"
   ]
  },
  {
   "cell_type": "code",
   "execution_count": 10,
   "id": "c1449d39",
   "metadata": {
    "execution": {
     "iopub.execute_input": "2023-12-16T09:10:21.966506Z",
     "iopub.status.busy": "2023-12-16T09:10:21.966092Z",
     "iopub.status.idle": "2023-12-16T09:10:21.971485Z",
     "shell.execute_reply": "2023-12-16T09:10:21.970313Z"
    },
    "papermill": {
     "duration": 0.017753,
     "end_time": "2023-12-16T09:10:21.973255",
     "exception": false,
     "start_time": "2023-12-16T09:10:21.955502",
     "status": "completed"
    },
    "tags": []
   },
   "outputs": [
    {
     "name": "stdout",
     "output_type": "stream",
     "text": [
      "This oatmeal is not good. Its mushy, soft, I don't like it. Quaker Oats is the way to go.\n"
     ]
    }
   ],
   "source": [
    "example = df['Text'][50]\n",
    "print(example)"
   ]
  },
  {
   "cell_type": "markdown",
   "id": "1e76d33c",
   "metadata": {
    "papermill": {
     "duration": 0.008323,
     "end_time": "2023-12-16T09:10:21.991193",
     "exception": false,
     "start_time": "2023-12-16T09:10:21.982870",
     "status": "completed"
    },
    "tags": []
   },
   "source": [
    "## Tokenization"
   ]
  },
  {
   "cell_type": "code",
   "execution_count": 11,
   "id": "dd478613",
   "metadata": {
    "execution": {
     "iopub.execute_input": "2023-12-16T09:10:22.010352Z",
     "iopub.status.busy": "2023-12-16T09:10:22.009855Z",
     "iopub.status.idle": "2023-12-16T09:10:22.032973Z",
     "shell.execute_reply": "2023-12-16T09:10:22.032055Z"
    },
    "papermill": {
     "duration": 0.035063,
     "end_time": "2023-12-16T09:10:22.034871",
     "exception": false,
     "start_time": "2023-12-16T09:10:21.999808",
     "status": "completed"
    },
    "tags": []
   },
   "outputs": [
    {
     "name": "stdout",
     "output_type": "stream",
     "text": [
      "['This', 'oatmeal', 'is', 'not', 'good', '.', 'Its', 'mushy', ',', 'soft', ',', 'I', 'do', \"n't\", 'like', 'it', '.', 'Quaker', 'Oats', 'is', 'the', 'way', 'to', 'go', '.']\n"
     ]
    }
   ],
   "source": [
    "tokens = nltk.word_tokenize(example)\n",
    "print(tokens)"
   ]
  },
  {
   "cell_type": "markdown",
   "id": "551e56b5",
   "metadata": {
    "papermill": {
     "duration": 0.008731,
     "end_time": "2023-12-16T09:10:22.052683",
     "exception": false,
     "start_time": "2023-12-16T09:10:22.043952",
     "status": "completed"
    },
    "tags": []
   },
   "source": [
    "- `nltk.word_tokenize` is a function used to tokenize a text into individual words\n",
    "- **tokenizing** a text means breaking the text into smaller parts for the purpose of making it easier for the machine to understand human language"
   ]
  },
  {
   "cell_type": "markdown",
   "id": "028c51b4",
   "metadata": {
    "papermill": {
     "duration": 0.008936,
     "end_time": "2023-12-16T09:10:22.070429",
     "exception": false,
     "start_time": "2023-12-16T09:10:22.061493",
     "status": "completed"
    },
    "tags": []
   },
   "source": [
    "## Part-of-speech-tagging"
   ]
  },
  {
   "cell_type": "markdown",
   "id": "c5eae04c",
   "metadata": {
    "papermill": {
     "duration": 0.008879,
     "end_time": "2023-12-16T09:10:22.088420",
     "exception": false,
     "start_time": "2023-12-16T09:10:22.079541",
     "status": "completed"
    },
    "tags": []
   },
   "source": [
    "- Part-of-speech tagging is a natural language processing task that involves assigning grammatical categories to words in a given text.\n",
    "- The goal of POS tagging is to determine the syntatic and grammatical structure of a sentence.\n",
    "- Example: determining the grammatical structure of the following sentence  \"The quick brown fox\"\n",
    "    1. Subject (S): \"The quick brown fox\"\n",
    "    - Noun (N): \"fox\"\n",
    "    - Adjective (Adj): \"the quick brown\"\n",
    "    2. Predicate (P): \"jumps over the lazy dog.\"\n",
    "    - Verb (V): \"jumps\"\n",
    "    - Prepositional Phrase (PP): \"over the lazy dog.\"\n",
    "        - Preposition (P): \"over\"\n",
    "        - Article (Art): \"the\"\n",
    "        - Adjective (Adj): \"lazy\"\n",
    "        - Noun (N): \"dog\""
   ]
  },
  {
   "cell_type": "code",
   "execution_count": 12,
   "id": "4c7ddc5d",
   "metadata": {
    "execution": {
     "iopub.execute_input": "2023-12-16T09:10:22.109871Z",
     "iopub.status.busy": "2023-12-16T09:10:22.108612Z",
     "iopub.status.idle": "2023-12-16T09:10:22.218978Z",
     "shell.execute_reply": "2023-12-16T09:10:22.217205Z"
    },
    "papermill": {
     "duration": 0.123579,
     "end_time": "2023-12-16T09:10:22.221289",
     "exception": false,
     "start_time": "2023-12-16T09:10:22.097710",
     "status": "completed"
    },
    "tags": []
   },
   "outputs": [
    {
     "data": {
      "text/plain": [
       "[('This', 'DT'),\n",
       " ('oatmeal', 'NN'),\n",
       " ('is', 'VBZ'),\n",
       " ('not', 'RB'),\n",
       " ('good', 'JJ'),\n",
       " ('.', '.'),\n",
       " ('Its', 'PRP$'),\n",
       " ('mushy', 'NN'),\n",
       " (',', ','),\n",
       " ('soft', 'JJ'),\n",
       " (',', ','),\n",
       " ('I', 'PRP'),\n",
       " ('do', 'VBP'),\n",
       " (\"n't\", 'RB'),\n",
       " ('like', 'VB'),\n",
       " ('it', 'PRP'),\n",
       " ('.', '.'),\n",
       " ('Quaker', 'NNP'),\n",
       " ('Oats', 'NNPS'),\n",
       " ('is', 'VBZ'),\n",
       " ('the', 'DT'),\n",
       " ('way', 'NN'),\n",
       " ('to', 'TO'),\n",
       " ('go', 'VB'),\n",
       " ('.', '.')]"
      ]
     },
     "execution_count": 12,
     "metadata": {},
     "output_type": "execute_result"
    }
   ],
   "source": [
    "tagged = nltk.pos_tag(tokens)\n",
    "tagged"
   ]
  },
  {
   "cell_type": "markdown",
   "id": "7b4d34b2",
   "metadata": {
    "papermill": {
     "duration": 0.008866,
     "end_time": "2023-12-16T09:10:22.239244",
     "exception": false,
     "start_time": "2023-12-16T09:10:22.230378",
     "status": "completed"
    },
    "tags": []
   },
   "source": [
    "## Named Entity Recognition"
   ]
  },
  {
   "cell_type": "markdown",
   "id": "f40708f6",
   "metadata": {
    "papermill": {
     "duration": 0.008725,
     "end_time": "2023-12-16T09:10:22.257045",
     "exception": false,
     "start_time": "2023-12-16T09:10:22.248320",
     "status": "completed"
    },
    "tags": []
   },
   "source": [
    "**Named Entity Recognition (NER):** NER is a subtask of information extraction that focuses on identifying and classifying entities in text. Entities can include persons, organizations, locations, dates, percentages, and more."
   ]
  },
  {
   "cell_type": "code",
   "execution_count": 13,
   "id": "0dbdd94d",
   "metadata": {
    "execution": {
     "iopub.execute_input": "2023-12-16T09:10:22.276680Z",
     "iopub.status.busy": "2023-12-16T09:10:22.276280Z",
     "iopub.status.idle": "2023-12-16T09:10:22.400754Z",
     "shell.execute_reply": "2023-12-16T09:10:22.399775Z"
    },
    "papermill": {
     "duration": 0.136924,
     "end_time": "2023-12-16T09:10:22.402954",
     "exception": false,
     "start_time": "2023-12-16T09:10:22.266030",
     "status": "completed"
    },
    "tags": []
   },
   "outputs": [
    {
     "name": "stdout",
     "output_type": "stream",
     "text": [
      "(S\n",
      "  This/DT\n",
      "  oatmeal/NN\n",
      "  is/VBZ\n",
      "  not/RB\n",
      "  good/JJ\n",
      "  ./.\n",
      "  Its/PRP$\n",
      "  mushy/NN\n",
      "  ,/,\n",
      "  soft/JJ\n",
      "  ,/,\n",
      "  I/PRP\n",
      "  do/VBP\n",
      "  n't/RB\n",
      "  like/VB\n",
      "  it/PRP\n",
      "  ./.\n",
      "  (ORGANIZATION Quaker/NNP Oats/NNPS)\n",
      "  is/VBZ\n",
      "  the/DT\n",
      "  way/NN\n",
      "  to/TO\n",
      "  go/VB\n",
      "  ./.)\n"
     ]
    }
   ],
   "source": [
    "entities = nltk.chunk.ne_chunk(tagged)\n",
    "entities.pprint()"
   ]
  },
  {
   "cell_type": "markdown",
   "id": "c0b0fdab",
   "metadata": {
    "papermill": {
     "duration": 0.009087,
     "end_time": "2023-12-16T09:10:22.421395",
     "exception": false,
     "start_time": "2023-12-16T09:10:22.412308",
     "status": "completed"
    },
    "tags": []
   },
   "source": [
    "- `ne_chunk` takes as input a list of tagged words, than identify and classify named entities in the input text.\n",
    "- In the example above you can see that it identifies two words as ORGAIZATION\n",
    "    - (ORGANIZATION Labrador/NNP)\n",
    "    - (ORGANIZATION Vitality/NNP)"
   ]
  },
  {
   "cell_type": "markdown",
   "id": "7b1dc280",
   "metadata": {
    "papermill": {
     "duration": 0.008997,
     "end_time": "2023-12-16T09:10:22.439950",
     "exception": false,
     "start_time": "2023-12-16T09:10:22.430953",
     "status": "completed"
    },
    "tags": []
   },
   "source": [
    "# VADER Seniment Scoring"
   ]
  },
  {
   "cell_type": "markdown",
   "id": "521e8aa9",
   "metadata": {
    "papermill": {
     "duration": 0.009013,
     "end_time": "2023-12-16T09:10:22.458406",
     "exception": false,
     "start_time": "2023-12-16T09:10:22.449393",
     "status": "completed"
    },
    "tags": []
   },
   "source": [
    "We will use NLTK's SentimentIntensityAnalyzer to get the neg/neu/pos scores of the text.\n",
    "## SentimentIntensityAnalyzer\n",
    "- Is a class in NTLK based on the pre-trained model **VADER** \n",
    "- Using this calss we can get a sentimenet score to a piece of text, by providing us with three value positive, negative, neutral and a compound score.\n",
    "    - positive for positive feelings.\n",
    "    - negative for negative feeling\n",
    "    - neutral if the text does not express neither positive or negative feelings\n",
    "    - compound represents the overall sentiment of     the text.\n",
    "    \n",
    "## Bag of words approach\n",
    "- Is the processes we used in this project\n",
    "- Bag of words approach means that we represented the texts as unordered set of words, and we kept track of frequency of each word in another term we do not care about the order of words insted we focuse on the occurces of words."
   ]
  },
  {
   "cell_type": "markdown",
   "id": "9b3c5c34",
   "metadata": {
    "papermill": {
     "duration": 0.009257,
     "end_time": "2023-12-16T09:10:22.476962",
     "exception": false,
     "start_time": "2023-12-16T09:10:22.467705",
     "status": "completed"
    },
    "tags": []
   },
   "source": [
    "## importing more tools"
   ]
  },
  {
   "cell_type": "code",
   "execution_count": 14,
   "id": "df8e5eb6",
   "metadata": {
    "execution": {
     "iopub.execute_input": "2023-12-16T09:10:22.498850Z",
     "iopub.status.busy": "2023-12-16T09:10:22.497233Z",
     "iopub.status.idle": "2023-12-16T09:10:22.543521Z",
     "shell.execute_reply": "2023-12-16T09:10:22.541992Z"
    },
    "papermill": {
     "duration": 0.060419,
     "end_time": "2023-12-16T09:10:22.546656",
     "exception": false,
     "start_time": "2023-12-16T09:10:22.486237",
     "status": "completed"
    },
    "tags": []
   },
   "outputs": [
    {
     "name": "stderr",
     "output_type": "stream",
     "text": [
      "/opt/conda/lib/python3.10/site-packages/nltk/twitter/__init__.py:20: UserWarning: The twython library has not been installed. Some functionality from the twitter package will not be available.\n",
      "  warnings.warn(\"The twython library has not been installed. \"\n"
     ]
    }
   ],
   "source": [
    "from nltk.sentiment import SentimentIntensityAnalyzer\n",
    "from tqdm.notebook import tqdm\n",
    "\n",
    "sia = SentimentIntensityAnalyzer()"
   ]
  },
  {
   "cell_type": "markdown",
   "id": "71efd4dc",
   "metadata": {
    "papermill": {
     "duration": 0.00968,
     "end_time": "2023-12-16T09:10:22.566269",
     "exception": false,
     "start_time": "2023-12-16T09:10:22.556589",
     "status": "completed"
    },
    "tags": []
   },
   "source": [
    "## Basic sentimentIntensityAnalyzer"
   ]
  },
  {
   "cell_type": "code",
   "execution_count": 15,
   "id": "86f73056",
   "metadata": {
    "execution": {
     "iopub.execute_input": "2023-12-16T09:10:22.588765Z",
     "iopub.status.busy": "2023-12-16T09:10:22.587003Z",
     "iopub.status.idle": "2023-12-16T09:10:22.595148Z",
     "shell.execute_reply": "2023-12-16T09:10:22.593851Z"
    },
    "papermill": {
     "duration": 0.02201,
     "end_time": "2023-12-16T09:10:22.597998",
     "exception": false,
     "start_time": "2023-12-16T09:10:22.575988",
     "status": "completed"
    },
    "tags": []
   },
   "outputs": [
    {
     "data": {
      "text/plain": [
       "{'neg': 0.0, 'neu': 0.318, 'pos': 0.682, 'compound': 0.6468}"
      ]
     },
     "execution_count": 15,
     "metadata": {},
     "output_type": "execute_result"
    }
   ],
   "source": [
    "sia.polarity_scores('I am so happy!')"
   ]
  },
  {
   "cell_type": "code",
   "execution_count": 16,
   "id": "926224f4",
   "metadata": {
    "execution": {
     "iopub.execute_input": "2023-12-16T09:10:22.619014Z",
     "iopub.status.busy": "2023-12-16T09:10:22.618627Z",
     "iopub.status.idle": "2023-12-16T09:10:22.625503Z",
     "shell.execute_reply": "2023-12-16T09:10:22.624436Z"
    },
    "papermill": {
     "duration": 0.020713,
     "end_time": "2023-12-16T09:10:22.628372",
     "exception": false,
     "start_time": "2023-12-16T09:10:22.607659",
     "status": "completed"
    },
    "tags": []
   },
   "outputs": [
    {
     "data": {
      "text/plain": [
       "{'neg': 0.451, 'neu': 0.549, 'pos': 0.0, 'compound': -0.6249}"
      ]
     },
     "execution_count": 16,
     "metadata": {},
     "output_type": "execute_result"
    }
   ],
   "source": [
    "sia.polarity_scores('This is the worst thing ever.')"
   ]
  },
  {
   "cell_type": "code",
   "execution_count": 17,
   "id": "4feb7bcb",
   "metadata": {
    "execution": {
     "iopub.execute_input": "2023-12-16T09:10:22.650687Z",
     "iopub.status.busy": "2023-12-16T09:10:22.649049Z",
     "iopub.status.idle": "2023-12-16T09:10:22.656480Z",
     "shell.execute_reply": "2023-12-16T09:10:22.655591Z"
    },
    "papermill": {
     "duration": 0.020424,
     "end_time": "2023-12-16T09:10:22.658379",
     "exception": false,
     "start_time": "2023-12-16T09:10:22.637955",
     "status": "completed"
    },
    "tags": []
   },
   "outputs": [
    {
     "data": {
      "text/plain": [
       "{'neg': 0.22, 'neu': 0.78, 'pos': 0.0, 'compound': -0.5448}"
      ]
     },
     "execution_count": 17,
     "metadata": {},
     "output_type": "execute_result"
    }
   ],
   "source": [
    "sia.polarity_scores(example)"
   ]
  },
  {
   "cell_type": "markdown",
   "id": "dc2f4465",
   "metadata": {
    "papermill": {
     "duration": 0.009761,
     "end_time": "2023-12-16T09:10:22.677845",
     "exception": false,
     "start_time": "2023-12-16T09:10:22.668084",
     "status": "completed"
    },
    "tags": []
   },
   "source": [
    "## Using sentimentIntensityAnalyzer on our dataset"
   ]
  },
  {
   "cell_type": "code",
   "execution_count": 18,
   "id": "ba50bdcb",
   "metadata": {
    "execution": {
     "iopub.execute_input": "2023-12-16T09:10:22.700285Z",
     "iopub.status.busy": "2023-12-16T09:10:22.699045Z",
     "iopub.status.idle": "2023-12-16T09:10:23.158528Z",
     "shell.execute_reply": "2023-12-16T09:10:23.157283Z"
    },
    "papermill": {
     "duration": 0.473685,
     "end_time": "2023-12-16T09:10:23.161482",
     "exception": false,
     "start_time": "2023-12-16T09:10:22.687797",
     "status": "completed"
    },
    "tags": []
   },
   "outputs": [
    {
     "data": {
      "application/vnd.jupyter.widget-view+json": {
       "model_id": "68a4547382e849f7805b88b09dc006cc",
       "version_major": 2,
       "version_minor": 0
      },
      "text/plain": [
       "  0%|          | 0/500 [00:00<?, ?it/s]"
      ]
     },
     "metadata": {},
     "output_type": "display_data"
    },
    {
     "name": "stdout",
     "output_type": "stream",
     "text": [
      "500\n"
     ]
    }
   ],
   "source": [
    "res = {}\n",
    "for i, row in tqdm(df.iterrows(), total=len(df)):\n",
    "    text = row['Text']\n",
    "    myid = row['Id']\n",
    "    res[myid] = sia.polarity_scores(text)\n",
    "print(len(res))"
   ]
  },
  {
   "cell_type": "code",
   "execution_count": 19,
   "id": "62b486e9",
   "metadata": {
    "execution": {
     "iopub.execute_input": "2023-12-16T09:10:23.185198Z",
     "iopub.status.busy": "2023-12-16T09:10:23.184761Z",
     "iopub.status.idle": "2023-12-16T09:10:23.191151Z",
     "shell.execute_reply": "2023-12-16T09:10:23.189850Z"
    },
    "papermill": {
     "duration": 0.021734,
     "end_time": "2023-12-16T09:10:23.193398",
     "exception": false,
     "start_time": "2023-12-16T09:10:23.171664",
     "status": "completed"
    },
    "tags": []
   },
   "outputs": [
    {
     "name": "stdout",
     "output_type": "stream",
     "text": [
      "id : 1, score: {'neg': 0.0, 'neu': 0.695, 'pos': 0.305, 'compound': 0.9441}\n",
      "id : 2, score: {'neg': 0.079, 'neu': 0.853, 'pos': 0.068, 'compound': -0.1027}\n",
      "id : 3, score: {'neg': 0.091, 'neu': 0.754, 'pos': 0.155, 'compound': 0.8265}\n",
      "id : 4, score: {'neg': 0.0, 'neu': 1.0, 'pos': 0.0, 'compound': 0.0}\n",
      "id : 5, score: {'neg': 0.0, 'neu': 0.552, 'pos': 0.448, 'compound': 0.9468}\n",
      "id : 6, score: {'neg': 0.029, 'neu': 0.809, 'pos': 0.163, 'compound': 0.883}\n",
      "id : 7, score: {'neg': 0.034, 'neu': 0.693, 'pos': 0.273, 'compound': 0.9346}\n",
      "id : 8, score: {'neg': 0.0, 'neu': 0.52, 'pos': 0.48, 'compound': 0.9487}\n",
      "id : 9, score: {'neg': 0.0, 'neu': 0.851, 'pos': 0.149, 'compound': 0.6369}\n",
      "id : 10, score: {'neg': 0.0, 'neu': 0.705, 'pos': 0.295, 'compound': 0.8313}\n"
     ]
    }
   ],
   "source": [
    "count = 0\n",
    "for id, score in res.items():\n",
    "    print(f\"id : {id}, score: {score}\")\n",
    "    count += 1\n",
    "    if( count == 10):\n",
    "        break"
   ]
  },
  {
   "cell_type": "code",
   "execution_count": null,
   "id": "1262e9bd",
   "metadata": {
    "papermill": {
     "duration": 0.009568,
     "end_time": "2023-12-16T09:10:23.213119",
     "exception": false,
     "start_time": "2023-12-16T09:10:23.203551",
     "status": "completed"
    },
    "tags": []
   },
   "outputs": [],
   "source": []
  }
 ],
 "metadata": {
  "kaggle": {
   "accelerator": "none",
   "dataSources": [
    {
     "datasetId": 18,
     "sourceId": 2157,
     "sourceType": "datasetVersion"
    }
   ],
   "dockerImageVersionId": 30587,
   "isGpuEnabled": false,
   "isInternetEnabled": true,
   "language": "python",
   "sourceType": "notebook"
  },
  "kernelspec": {
   "display_name": "Python 3",
   "language": "python",
   "name": "python3"
  },
  "language_info": {
   "codemirror_mode": {
    "name": "ipython",
    "version": 3
   },
   "file_extension": ".py",
   "mimetype": "text/x-python",
   "name": "python",
   "nbconvert_exporter": "python",
   "pygments_lexer": "ipython3",
   "version": "3.10.12"
  },
  "papermill": {
   "default_parameters": {},
   "duration": 16.516679,
   "end_time": "2023-12-16T09:10:23.945478",
   "environment_variables": {},
   "exception": null,
   "input_path": "__notebook__.ipynb",
   "output_path": "__notebook__.ipynb",
   "parameters": {},
   "start_time": "2023-12-16T09:10:07.428799",
   "version": "2.4.0"
  },
  "widgets": {
   "application/vnd.jupyter.widget-state+json": {
    "state": {
     "24d32baede3b45b4bb0aa3aa7a478fd3": {
      "model_module": "@jupyter-widgets/base",
      "model_module_version": "1.2.0",
      "model_name": "LayoutModel",
      "state": {
       "_model_module": "@jupyter-widgets/base",
       "_model_module_version": "1.2.0",
       "_model_name": "LayoutModel",
       "_view_count": null,
       "_view_module": "@jupyter-widgets/base",
       "_view_module_version": "1.2.0",
       "_view_name": "LayoutView",
       "align_content": null,
       "align_items": null,
       "align_self": null,
       "border": null,
       "bottom": null,
       "display": null,
       "flex": null,
       "flex_flow": null,
       "grid_area": null,
       "grid_auto_columns": null,
       "grid_auto_flow": null,
       "grid_auto_rows": null,
       "grid_column": null,
       "grid_gap": null,
       "grid_row": null,
       "grid_template_areas": null,
       "grid_template_columns": null,
       "grid_template_rows": null,
       "height": null,
       "justify_content": null,
       "justify_items": null,
       "left": null,
       "margin": null,
       "max_height": null,
       "max_width": null,
       "min_height": null,
       "min_width": null,
       "object_fit": null,
       "object_position": null,
       "order": null,
       "overflow": null,
       "overflow_x": null,
       "overflow_y": null,
       "padding": null,
       "right": null,
       "top": null,
       "visibility": null,
       "width": null
      }
     },
     "2bec99cf274d446fa1ae4d0268b6815a": {
      "model_module": "@jupyter-widgets/controls",
      "model_module_version": "1.5.0",
      "model_name": "FloatProgressModel",
      "state": {
       "_dom_classes": [],
       "_model_module": "@jupyter-widgets/controls",
       "_model_module_version": "1.5.0",
       "_model_name": "FloatProgressModel",
       "_view_count": null,
       "_view_module": "@jupyter-widgets/controls",
       "_view_module_version": "1.5.0",
       "_view_name": "ProgressView",
       "bar_style": "success",
       "description": "",
       "description_tooltip": null,
       "layout": "IPY_MODEL_3600c881decb4147ad4635f224bd3aef",
       "max": 500.0,
       "min": 0.0,
       "orientation": "horizontal",
       "style": "IPY_MODEL_5050da06a9334708b218014dd5a20ae3",
       "value": 500.0
      }
     },
     "300c93e0f7e3419ab6aad9e20c240d31": {
      "model_module": "@jupyter-widgets/controls",
      "model_module_version": "1.5.0",
      "model_name": "HTMLModel",
      "state": {
       "_dom_classes": [],
       "_model_module": "@jupyter-widgets/controls",
       "_model_module_version": "1.5.0",
       "_model_name": "HTMLModel",
       "_view_count": null,
       "_view_module": "@jupyter-widgets/controls",
       "_view_module_version": "1.5.0",
       "_view_name": "HTMLView",
       "description": "",
       "description_tooltip": null,
       "layout": "IPY_MODEL_a1f0d0d70c374dc6acc35d186ddc100a",
       "placeholder": "​",
       "style": "IPY_MODEL_b92ca1cb30124dbbbe12562797dc30bc",
       "value": " 500/500 [00:00&lt;00:00, 1147.47it/s]"
      }
     },
     "3600c881decb4147ad4635f224bd3aef": {
      "model_module": "@jupyter-widgets/base",
      "model_module_version": "1.2.0",
      "model_name": "LayoutModel",
      "state": {
       "_model_module": "@jupyter-widgets/base",
       "_model_module_version": "1.2.0",
       "_model_name": "LayoutModel",
       "_view_count": null,
       "_view_module": "@jupyter-widgets/base",
       "_view_module_version": "1.2.0",
       "_view_name": "LayoutView",
       "align_content": null,
       "align_items": null,
       "align_self": null,
       "border": null,
       "bottom": null,
       "display": null,
       "flex": null,
       "flex_flow": null,
       "grid_area": null,
       "grid_auto_columns": null,
       "grid_auto_flow": null,
       "grid_auto_rows": null,
       "grid_column": null,
       "grid_gap": null,
       "grid_row": null,
       "grid_template_areas": null,
       "grid_template_columns": null,
       "grid_template_rows": null,
       "height": null,
       "justify_content": null,
       "justify_items": null,
       "left": null,
       "margin": null,
       "max_height": null,
       "max_width": null,
       "min_height": null,
       "min_width": null,
       "object_fit": null,
       "object_position": null,
       "order": null,
       "overflow": null,
       "overflow_x": null,
       "overflow_y": null,
       "padding": null,
       "right": null,
       "top": null,
       "visibility": null,
       "width": null
      }
     },
     "5050da06a9334708b218014dd5a20ae3": {
      "model_module": "@jupyter-widgets/controls",
      "model_module_version": "1.5.0",
      "model_name": "ProgressStyleModel",
      "state": {
       "_model_module": "@jupyter-widgets/controls",
       "_model_module_version": "1.5.0",
       "_model_name": "ProgressStyleModel",
       "_view_count": null,
       "_view_module": "@jupyter-widgets/base",
       "_view_module_version": "1.2.0",
       "_view_name": "StyleView",
       "bar_color": null,
       "description_width": ""
      }
     },
     "55ff19459e2a45aebaa44c163c703424": {
      "model_module": "@jupyter-widgets/controls",
      "model_module_version": "1.5.0",
      "model_name": "DescriptionStyleModel",
      "state": {
       "_model_module": "@jupyter-widgets/controls",
       "_model_module_version": "1.5.0",
       "_model_name": "DescriptionStyleModel",
       "_view_count": null,
       "_view_module": "@jupyter-widgets/base",
       "_view_module_version": "1.2.0",
       "_view_name": "StyleView",
       "description_width": ""
      }
     },
     "68a4547382e849f7805b88b09dc006cc": {
      "model_module": "@jupyter-widgets/controls",
      "model_module_version": "1.5.0",
      "model_name": "HBoxModel",
      "state": {
       "_dom_classes": [],
       "_model_module": "@jupyter-widgets/controls",
       "_model_module_version": "1.5.0",
       "_model_name": "HBoxModel",
       "_view_count": null,
       "_view_module": "@jupyter-widgets/controls",
       "_view_module_version": "1.5.0",
       "_view_name": "HBoxView",
       "box_style": "",
       "children": [
        "IPY_MODEL_dcad4289e37348969ab803f51ffb93ed",
        "IPY_MODEL_2bec99cf274d446fa1ae4d0268b6815a",
        "IPY_MODEL_300c93e0f7e3419ab6aad9e20c240d31"
       ],
       "layout": "IPY_MODEL_24d32baede3b45b4bb0aa3aa7a478fd3"
      }
     },
     "a1f0d0d70c374dc6acc35d186ddc100a": {
      "model_module": "@jupyter-widgets/base",
      "model_module_version": "1.2.0",
      "model_name": "LayoutModel",
      "state": {
       "_model_module": "@jupyter-widgets/base",
       "_model_module_version": "1.2.0",
       "_model_name": "LayoutModel",
       "_view_count": null,
       "_view_module": "@jupyter-widgets/base",
       "_view_module_version": "1.2.0",
       "_view_name": "LayoutView",
       "align_content": null,
       "align_items": null,
       "align_self": null,
       "border": null,
       "bottom": null,
       "display": null,
       "flex": null,
       "flex_flow": null,
       "grid_area": null,
       "grid_auto_columns": null,
       "grid_auto_flow": null,
       "grid_auto_rows": null,
       "grid_column": null,
       "grid_gap": null,
       "grid_row": null,
       "grid_template_areas": null,
       "grid_template_columns": null,
       "grid_template_rows": null,
       "height": null,
       "justify_content": null,
       "justify_items": null,
       "left": null,
       "margin": null,
       "max_height": null,
       "max_width": null,
       "min_height": null,
       "min_width": null,
       "object_fit": null,
       "object_position": null,
       "order": null,
       "overflow": null,
       "overflow_x": null,
       "overflow_y": null,
       "padding": null,
       "right": null,
       "top": null,
       "visibility": null,
       "width": null
      }
     },
     "aa4a7330bf674498a744f1a470c82fe8": {
      "model_module": "@jupyter-widgets/base",
      "model_module_version": "1.2.0",
      "model_name": "LayoutModel",
      "state": {
       "_model_module": "@jupyter-widgets/base",
       "_model_module_version": "1.2.0",
       "_model_name": "LayoutModel",
       "_view_count": null,
       "_view_module": "@jupyter-widgets/base",
       "_view_module_version": "1.2.0",
       "_view_name": "LayoutView",
       "align_content": null,
       "align_items": null,
       "align_self": null,
       "border": null,
       "bottom": null,
       "display": null,
       "flex": null,
       "flex_flow": null,
       "grid_area": null,
       "grid_auto_columns": null,
       "grid_auto_flow": null,
       "grid_auto_rows": null,
       "grid_column": null,
       "grid_gap": null,
       "grid_row": null,
       "grid_template_areas": null,
       "grid_template_columns": null,
       "grid_template_rows": null,
       "height": null,
       "justify_content": null,
       "justify_items": null,
       "left": null,
       "margin": null,
       "max_height": null,
       "max_width": null,
       "min_height": null,
       "min_width": null,
       "object_fit": null,
       "object_position": null,
       "order": null,
       "overflow": null,
       "overflow_x": null,
       "overflow_y": null,
       "padding": null,
       "right": null,
       "top": null,
       "visibility": null,
       "width": null
      }
     },
     "b92ca1cb30124dbbbe12562797dc30bc": {
      "model_module": "@jupyter-widgets/controls",
      "model_module_version": "1.5.0",
      "model_name": "DescriptionStyleModel",
      "state": {
       "_model_module": "@jupyter-widgets/controls",
       "_model_module_version": "1.5.0",
       "_model_name": "DescriptionStyleModel",
       "_view_count": null,
       "_view_module": "@jupyter-widgets/base",
       "_view_module_version": "1.2.0",
       "_view_name": "StyleView",
       "description_width": ""
      }
     },
     "dcad4289e37348969ab803f51ffb93ed": {
      "model_module": "@jupyter-widgets/controls",
      "model_module_version": "1.5.0",
      "model_name": "HTMLModel",
      "state": {
       "_dom_classes": [],
       "_model_module": "@jupyter-widgets/controls",
       "_model_module_version": "1.5.0",
       "_model_name": "HTMLModel",
       "_view_count": null,
       "_view_module": "@jupyter-widgets/controls",
       "_view_module_version": "1.5.0",
       "_view_name": "HTMLView",
       "description": "",
       "description_tooltip": null,
       "layout": "IPY_MODEL_aa4a7330bf674498a744f1a470c82fe8",
       "placeholder": "​",
       "style": "IPY_MODEL_55ff19459e2a45aebaa44c163c703424",
       "value": "100%"
      }
     }
    },
    "version_major": 2,
    "version_minor": 0
   }
  }
 },
 "nbformat": 4,
 "nbformat_minor": 5
}
